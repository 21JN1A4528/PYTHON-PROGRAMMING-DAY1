{
  "nbformat": 4,
  "nbformat_minor": 0,
  "metadata": {
    "colab": {
      "provenance": []
    },
    "kernelspec": {
      "name": "python3",
      "display_name": "Python 3"
    },
    "language_info": {
      "name": "python"
    }
  },
  "cells": [
    {
      "cell_type": "markdown",
      "source": [
        "**Check Whether or Not the Number is an Automorphic Number in Python Language**\n"
      ],
      "metadata": {
        "id": "dOBPRJz01oOq"
      }
    },
    {
      "cell_type": "code",
      "execution_count": 1,
      "metadata": {
        "colab": {
          "base_uri": "https://localhost:8080/"
        },
        "id": "SYXjdaOb1L0a",
        "outputId": "e9ade124-c5be-421d-c50a-9049513854fa"
      },
      "outputs": [
        {
          "output_type": "stream",
          "name": "stdout",
          "text": [
            "5\n",
            "AUTOMORPIC\n"
          ]
        }
      ],
      "source": [
        "n=int(input())\n",
        "m=n*n\n",
        "num=m%10\n",
        "if num==n:\n",
        "  print(\"AUTOMORPIC\")\n",
        "else:\n",
        "  print(\"NOT AUTOMORPHIC\")"
      ]
    },
    {
      "cell_type": "markdown",
      "source": [
        "**Check Whether or Not a Number is a Abundant Number in Python Language**"
      ],
      "metadata": {
        "id": "rgqWF-JG1mXq"
      }
    },
    {
      "cell_type": "code",
      "source": [
        "n=int(input())\n",
        "sum=0\n",
        "for i in range(1,n):\n",
        "  if n%i==0:\n",
        "    sum=sum+i\n",
        "    if sum>n:\n",
        "     print(\"Abundant\")\n",
        "    else:\n",
        "     print(\"Not Abundant\")"
      ],
      "metadata": {
        "colab": {
          "base_uri": "https://localhost:8080/"
        },
        "id": "xIsojbHs1aBA",
        "outputId": "9c5dae90-4cbd-4691-8b06-cbf5ca308430"
      },
      "execution_count": 2,
      "outputs": [
        {
          "output_type": "stream",
          "name": "stdout",
          "text": [
            "25\n",
            "Not Abundant\n",
            "Not Abundant\n"
          ]
        }
      ]
    },
    {
      "cell_type": "markdown",
      "source": [
        "**Check Whether or Not a Number is a Harshad Number in Python Language**"
      ],
      "metadata": {
        "id": "UWu4l37k261I"
      }
    },
    {
      "cell_type": "code",
      "source": [
        "n=int(input())\n",
        "sum=0\n",
        "rem=n%10\n",
        "tem=n\n",
        "while(rem>0):\n",
        "  sum=sum+rem\n",
        "  n=n//10\n",
        "  rem=n%10\n",
        "  if n%sum==0:\n",
        "    print(\"Harshad\")\n",
        "  else:\n",
        "    print(\"Not Harshad\")"
      ],
      "metadata": {
        "colab": {
          "base_uri": "https://localhost:8080/"
        },
        "id": "TpzJMO523QCG",
        "outputId": "9fb22081-7171-4f78-f28e-c7ce72edc862"
      },
      "execution_count": 8,
      "outputs": [
        {
          "output_type": "stream",
          "name": "stdout",
          "text": [
            "4\n",
            "Harshad\n"
          ]
        }
      ]
    },
    {
      "cell_type": "markdown",
      "source": [
        "**Check Whether or Not the Two Numbers are Friendly Pairs in Python Language**\n"
      ],
      "metadata": {
        "id": "_6jock7G4Hfe"
      }
    },
    {
      "cell_type": "code",
      "source": [
        "n=int(input())\n",
        "sum=0\n",
        "for i in range(1,n):\n",
        "  if n%i==0:\n",
        "    sum=sum+i\n",
        "    if sum==n:\n",
        "      print(\"Friendly\")\n",
        "      break\n",
        "    else:\n",
        "      print(\"Not Friendly\")"
      ],
      "metadata": {
        "colab": {
          "base_uri": "https://localhost:8080/"
        },
        "id": "ScYDycRD4tP8",
        "outputId": "8170f694-cb8f-4f07-8747-c22fd8f264db"
      },
      "execution_count": 4,
      "outputs": [
        {
          "output_type": "stream",
          "name": "stdout",
          "text": [
            "2\n",
            "Not Friendly\n"
          ]
        }
      ]
    },
    {
      "cell_type": "markdown",
      "source": [
        "**Check Whether or Not a Number is a perfect square in Python Language**"
      ],
      "metadata": {
        "id": "9X3AJ98Z7vx6"
      }
    },
    {
      "cell_type": "code",
      "source": [
        "n=25\n",
        "for i in range(1,n):\n",
        "  if i*i==n:\n",
        "    print(\"Perfect Square\")\n",
        "    break\n",
        "  else:\n",
        "      print(\"Not perfect square\")"
      ],
      "metadata": {
        "colab": {
          "base_uri": "https://localhost:8080/"
        },
        "id": "_wRvxmWs-oua",
        "outputId": "70e809be-8172-49f8-f863-33bf07a9413b"
      },
      "execution_count": 7,
      "outputs": [
        {
          "output_type": "stream",
          "name": "stdout",
          "text": [
            "Not perfect square\n",
            "Not perfect square\n",
            "Not perfect square\n",
            "Not perfect square\n",
            "Perfect Square\n"
          ]
        }
      ]
    }
  ]
}